{
 "cells": [
  {
   "cell_type": "markdown",
   "id": "261ed4cb",
   "metadata": {},
   "source": [
    "# introduction to datascience"
   ]
  },
  {
   "cell_type": "code",
   "execution_count": 1,
   "id": "651682e7",
   "metadata": {},
   "outputs": [
    {
     "name": "stdout",
     "output_type": "stream",
     "text": [
      "1200\n"
     ]
    }
   ],
   "source": [
    "jacket=200\n",
    "maize=600\n",
    "grocery=400\n",
    "total=jacket+ maize+grocery\n",
    "print(total)"
   ]
  },
  {
   "cell_type": "code",
   "execution_count": 2,
   "id": "8799e3b3",
   "metadata": {},
   "outputs": [
    {
     "name": "stdout",
     "output_type": "stream",
     "text": [
      "4800\n"
     ]
    }
   ],
   "source": [
    "#variable\n",
    "cups=300\n",
    "donkey=4500\n",
    "total=cups+donkey\n",
    "print(total)"
   ]
  },
  {
   "cell_type": "code",
   "execution_count": 8,
   "id": "1cd314e0",
   "metadata": {},
   "outputs": [
    {
     "name": "stdout",
     "output_type": "stream",
     "text": [
      "expensive luxury: rent grocery parking\n"
     ]
    }
   ],
   "source": [
    "item1=\"rent\"\n",
    "item2=\"grocery\"\n",
    "item3=\"parking\"\n",
    "print(\"expensive luxury:\", item1,item2, item3)"
   ]
  },
  {
   "cell_type": "code",
   "execution_count": 10,
   "id": "22784821",
   "metadata": {},
   "outputs": [
    {
     "name": "stdout",
     "output_type": "stream",
     "text": [
      "2\n"
     ]
    }
   ],
   "source": [
    "#numbers\n",
    "y=5%3\n",
    "print(y)"
   ]
  },
  {
   "cell_type": "code",
   "execution_count": 11,
   "id": "6276b710",
   "metadata": {},
   "outputs": [
    {
     "name": "stdout",
     "output_type": "stream",
     "text": [
      "16\n"
     ]
    }
   ],
   "source": [
    "y=2**4\n",
    "print(y)"
   ]
  },
  {
   "cell_type": "code",
   "execution_count": 16,
   "id": "9d4d2634",
   "metadata": {},
   "outputs": [
    {
     "name": "stdout",
     "output_type": "stream",
     "text": [
      "435\n"
     ]
    }
   ],
   "source": [
    "d_cat=188\n",
    "y_pass=247\n",
    "total_distance=d_cat+y_pass\n",
    "print(total_distance)"
   ]
  },
  {
   "cell_type": "code",
   "execution_count": 17,
   "id": "6d2d7e9d",
   "metadata": {},
   "outputs": [
    {
     "name": "stdout",
     "output_type": "stream",
     "text": [
      "6.6923076923076925\n"
     ]
    }
   ],
   "source": [
    "mph=65\n",
    "time=total_distance/mph\n",
    "print(time)"
   ]
  },
  {
   "cell_type": "code",
   "execution_count": 29,
   "id": "257c034d",
   "metadata": {},
   "outputs": [
    {
     "name": "stdout",
     "output_type": "stream",
     "text": [
      "4\n"
     ]
    }
   ],
   "source": [
    "from math import*\n",
    "y=3.7\n",
    "print(round(y))"
   ]
  },
  {
   "cell_type": "code",
   "execution_count": 30,
   "id": "16a42f81",
   "metadata": {},
   "outputs": [
    {
     "name": "stdout",
     "output_type": "stream",
     "text": [
      "4\n"
     ]
    }
   ],
   "source": [
    "from math import*\n",
    "y=3.2\n",
    "print(ceil(y))"
   ]
  },
  {
   "cell_type": "code",
   "execution_count": 31,
   "id": "4dcbb699",
   "metadata": {},
   "outputs": [
    {
     "name": "stdout",
     "output_type": "stream",
     "text": [
      "3\n"
     ]
    }
   ],
   "source": [
    "from math import*\n",
    "y=3.5\n",
    "print(floor(y))"
   ]
  },
  {
   "cell_type": "code",
   "execution_count": 32,
   "id": "77a00ad0",
   "metadata": {},
   "outputs": [
    {
     "name": "stdout",
     "output_type": "stream",
     "text": [
      "3.5\n"
     ]
    }
   ],
   "source": [
    "y=-3.5\n",
    "print(abs(y))"
   ]
  },
  {
   "cell_type": "code",
   "execution_count": 33,
   "id": "fb690f0c",
   "metadata": {},
   "outputs": [
    {
     "name": "stdout",
     "output_type": "stream",
     "text": [
      "16.0\n"
     ]
    }
   ],
   "source": [
    "y=2\n",
    "print(pow(y,4))"
   ]
  },
  {
   "cell_type": "code",
   "execution_count": 36,
   "id": "9b6f2272",
   "metadata": {},
   "outputs": [
    {
     "name": "stdout",
     "output_type": "stream",
     "text": [
      "3 it is a whole number\n"
     ]
    }
   ],
   "source": [
    "my_num=3\n",
    "print(str(my_num)+\" it is a whole number\")"
   ]
  },
  {
   "cell_type": "code",
   "execution_count": 40,
   "id": "8293055f",
   "metadata": {},
   "outputs": [
    {
     "name": "stdout",
     "output_type": "stream",
     "text": [
      "it kenya\n"
     ]
    }
   ],
   "source": [
    "def function1():\n",
    "    print(\"scam\")\n",
    "    print(\"fake\")\n",
    "print(\"it kenya\")    \n"
   ]
  },
  {
   "cell_type": "code",
   "execution_count": 41,
   "id": "95bdda91",
   "metadata": {},
   "outputs": [
    {
     "name": "stdout",
     "output_type": "stream",
     "text": [
      "scam\n",
      "fake\n"
     ]
    }
   ],
   "source": [
    "function1()"
   ]
  },
  {
   "cell_type": "code",
   "execution_count": 51,
   "id": "0207a8e0",
   "metadata": {},
   "outputs": [
    {
     "name": "stdout",
     "output_type": "stream",
     "text": [
      "[1, 3, 4, 5]\n"
     ]
    }
   ],
   "source": [
    "name=[1,3,4]\n",
    "name.append(5)\n",
    "print(name)"
   ]
  },
  {
   "cell_type": "code",
   "execution_count": 52,
   "id": "d08ca01c",
   "metadata": {},
   "outputs": [
    {
     "name": "stdout",
     "output_type": "stream",
     "text": [
      "[1, 2, 6]\n"
     ]
    }
   ],
   "source": [
    "name=[1,2,6,9]\n",
    "name.pop()\n",
    "print(name)"
   ]
  },
  {
   "cell_type": "code",
   "execution_count": 54,
   "id": "7474201b",
   "metadata": {},
   "outputs": [
    {
     "name": "stdout",
     "output_type": "stream",
     "text": [
      "['kendi']\n"
     ]
    }
   ],
   "source": [
    "name=[\"kendi\",\"k\"]\n",
    "name.pop()\n",
    "print(name)\n"
   ]
  },
  {
   "cell_type": "code",
   "execution_count": 58,
   "id": "3e1bdca2",
   "metadata": {},
   "outputs": [
    {
     "name": "stdout",
     "output_type": "stream",
     "text": [
      "['y', 'k', 'i']\n"
     ]
    }
   ],
   "source": [
    "name=[\"y\",\"k\"]\n",
    "name.append(\"i\")\n",
    "print(name)"
   ]
  },
  {
   "cell_type": "code",
   "execution_count": 65,
   "id": "77679be8",
   "metadata": {},
   "outputs": [
    {
     "name": "stdout",
     "output_type": "stream",
     "text": [
      "2.0\n"
     ]
    }
   ],
   "source": [
    "from math import*\n",
    "y=4\n",
    "print(sqrt(y))\n",
    "    "
   ]
  },
  {
   "cell_type": "code",
   "execution_count": 66,
   "id": "f23852a6",
   "metadata": {},
   "outputs": [
    {
     "name": "stdout",
     "output_type": "stream",
     "text": [
      "4\n"
     ]
    }
   ],
   "source": [
    "y=3.7\n",
    "print(round(y))"
   ]
  },
  {
   "cell_type": "code",
   "execution_count": 70,
   "id": "43d9d42b",
   "metadata": {},
   "outputs": [
    {
     "name": "stdout",
     "output_type": "stream",
     "text": [
      "ANITA\n"
     ]
    }
   ],
   "source": [
    "name=\"anita\"\n",
    "print(name .upper())"
   ]
  },
  {
   "cell_type": "code",
   "execution_count": 71,
   "id": "3b57f852",
   "metadata": {},
   "outputs": [
    {
     "name": "stdout",
     "output_type": "stream",
     "text": [
      "True\n"
     ]
    }
   ],
   "source": [
    "name=\"anita\"\n",
    "print(name.upper() .isupper())"
   ]
  },
  {
   "cell_type": "code",
   "execution_count": 72,
   "id": "e36daaa3",
   "metadata": {},
   "outputs": [
    {
     "name": "stdout",
     "output_type": "stream",
     "text": [
      "anita\n"
     ]
    }
   ],
   "source": [
    "name=\"ANITA\"\n",
    "print(name.lower())"
   ]
  },
  {
   "cell_type": "code",
   "execution_count": 73,
   "id": "888f9f0f",
   "metadata": {},
   "outputs": [
    {
     "name": "stdout",
     "output_type": "stream",
     "text": [
      "True\n"
     ]
    }
   ],
   "source": [
    "name=\"ANITA\"\n",
    "print(name.lower().islower())"
   ]
  },
  {
   "cell_type": "code",
   "execution_count": 74,
   "id": "df8a449d",
   "metadata": {},
   "outputs": [
    {
     "name": "stdout",
     "output_type": "stream",
     "text": [
      "False\n"
     ]
    }
   ],
   "source": [
    "name=\"anita\"\n",
    "print(name.isupper())"
   ]
  },
  {
   "cell_type": "code",
   "execution_count": 79,
   "id": "bba94407",
   "metadata": {},
   "outputs": [
    {
     "name": "stdout",
     "output_type": "stream",
     "text": [
      "it bigger\n"
     ]
    }
   ],
   "source": [
    "a=7\n",
    "b=8\n",
    "if a<b:\n",
    "    print(\"it bigger\")\n",
    "else:\n",
    "    print(\"it is a smaller number\")"
   ]
  },
  {
   "cell_type": "code",
   "execution_count": 83,
   "id": "be7bde2d",
   "metadata": {},
   "outputs": [
    {
     "name": "stdout",
     "output_type": "stream",
     "text": [
      "it bigger\n"
     ]
    }
   ],
   "source": [
    "a=7\n",
    "b=8\n",
    "if a<b:\n",
    "    print(\"it bigger\")\n",
    "elif a==b:\n",
    "    print(\"it not equal\")\n",
    "else:\n",
    "    print(\"it smaller\")"
   ]
  },
  {
   "cell_type": "code",
   "execution_count": 84,
   "id": "78adaf27",
   "metadata": {},
   "outputs": [
    {
     "name": "stdout",
     "output_type": "stream",
     "text": [
      "it bigger\n"
     ]
    }
   ],
   "source": [
    "a=7\n",
    "b=8\n",
    "if a<b:\n",
    "    print(\"it bigger\")\n",
    "else:\n",
    "    if a==b:\n",
    "        print(\"it not equal\")\n",
    "    else:\n",
    "        print(\"it smaller\")"
   ]
  },
  {
   "cell_type": "code",
   "execution_count": 87,
   "id": "04c4ad58",
   "metadata": {},
   "outputs": [
    {
     "name": "stdout",
     "output_type": "stream",
     "text": [
      "not all\n"
     ]
    }
   ],
   "source": [
    "name=\"karimi\"\n",
    "dance=\"karate\"\n",
    "if name == dance:\n",
    "    print(\"it all the same\")\n",
    "else:\n",
    "    print(\"not all\")"
   ]
  },
  {
   "cell_type": "code",
   "execution_count": null,
   "id": "21ea35e9",
   "metadata": {},
   "outputs": [],
   "source": []
  }
 ],
 "metadata": {
  "kernelspec": {
   "display_name": "Python 3 (ipykernel)",
   "language": "python",
   "name": "python3"
  },
  "language_info": {
   "codemirror_mode": {
    "name": "ipython",
    "version": 3
   },
   "file_extension": ".py",
   "mimetype": "text/x-python",
   "name": "python",
   "nbconvert_exporter": "python",
   "pygments_lexer": "ipython3",
   "version": "3.9.7"
  }
 },
 "nbformat": 4,
 "nbformat_minor": 5
}
